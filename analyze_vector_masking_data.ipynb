{
 "metadata": {
  "language_info": {
   "codemirror_mode": {
    "name": "ipython",
    "version": 3
   },
   "file_extension": ".py",
   "mimetype": "text/x-python",
   "name": "python",
   "nbconvert_exporter": "python",
   "pygments_lexer": "ipython3",
   "version": "3.9.1-final"
  },
  "orig_nbformat": 2,
  "kernelspec": {
   "name": "python3",
   "display_name": "Python 3",
   "language": "python"
  }
 },
 "nbformat": 4,
 "nbformat_minor": 2,
 "cells": [
  {
   "source": [
    "## 1. Import needed libraries"
   ],
   "cell_type": "markdown",
   "metadata": {}
  },
  {
   "cell_type": "code",
   "execution_count": 2,
   "metadata": {},
   "outputs": [],
   "source": [
    "import os\n",
    "import pandas as pd\n",
    "import matplotlib.pyplot as plt\n",
    "import numpy as np\n",
    "import seaborn as sns\n",
    "from Bio import SeqIO\n",
    "%matplotlib inline"
   ]
  },
  {
   "source": [
    "## 2. Load the vector-masked EST sequences and calculate stats"
   ],
   "cell_type": "markdown",
   "metadata": {}
  },
  {
   "cell_type": "code",
   "execution_count": null,
   "metadata": {},
   "outputs": [],
   "source": [
    "def get_dist_to_3prime():\n",
    "    pass\n",
    "\n",
    "\n",
    "def get_dist_to_5prime():\n",
    "    pass\n",
    "\n",
    "\n",
    "def get_xregion_len():\n",
    "    pass\n",
    "\n",
    "\n"
   ]
  },
  {
   "cell_type": "code",
   "execution_count": 6,
   "metadata": {},
   "outputs": [
    {
     "output_type": "stream",
     "name": "stdout",
     "text": [
      "./local_data/crossmatch_filtered/Apis_mellifera_ests_blast_filtered.fasta.screen\n./local_data/crossmatch_filtered/Polistes_canadensis_ests_blast_filtered.fasta.screen\n./local_data/crossmatch_filtered/Solenopsis_invicta_ests_blast_filtered.fasta.screen\n"
     ]
    }
   ],
   "source": [
    "path_to_seqs = '/home/maycon/Documents/LAB/eusociality/local_data/crossmatch_filtered'\n",
    "\n",
    "for seq_file in os.listdir(path_to_seqs):\n",
    "    if seq_file.endswith('.screen'):\n",
    "        file_path = os.path.join(path_to_seqs, seq_file)\n",
    "    \n",
    "        for seq in SeqIO.parse(file_path, 'fasta'):"
   ]
  },
  {
   "cell_type": "code",
   "execution_count": null,
   "metadata": {},
   "outputs": [],
   "source": []
  }
 ]
}