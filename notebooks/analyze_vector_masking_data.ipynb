{
 "metadata": {
  "language_info": {
   "codemirror_mode": {
    "name": "ipython",
    "version": 3
   },
   "file_extension": ".py",
   "mimetype": "text/x-python",
   "name": "python",
   "nbconvert_exporter": "python",
   "pygments_lexer": "ipython3",
   "version": "3.9.1-final"
  },
  "orig_nbformat": 2,
  "kernelspec": {
   "name": "python3",
   "display_name": "Python 3",
   "language": "python"
  }
 },
 "nbformat": 4,
 "nbformat_minor": 2,
 "cells": [
  {
   "source": [
    "## 1. Import needed libraries"
   ],
   "cell_type": "markdown",
   "metadata": {}
  },
  {
   "cell_type": "code",
   "execution_count": 22,
   "metadata": {},
   "outputs": [],
   "source": [
    "import os\n",
    "import pandas as pd\n",
    "import matplotlib.pyplot as plt\n",
    "import numpy as np\n",
    "import seaborn as sns\n",
    "from helpers import masked_seqs_stats\n",
    "from Bio import SeqIO\n",
    "%matplotlib inline"
   ]
  },
  {
   "source": [
    "## 2. Load the vector-masked EST sequences and calculate stats"
   ],
   "cell_type": "markdown",
   "metadata": {}
  },
  {
   "cell_type": "code",
   "execution_count": 23,
   "metadata": {},
   "outputs": [],
   "source": [
    "path_to_seqs = '/home/maycon/Documents/LAB/eusociality/local_data/crossmatch_filtered'\n",
    "\n",
    "xgroups_data = pd.DataFrame(columns=[\"seq_id\", \"taxon\", \"seq_len\", \"xgroup_id\", \"xgroup_len\", \"dist_from_3\", \"dist_from_5\", \"seq_class\"])\n",
    "\n",
    "for seq_file in os.listdir(path_to_seqs):\n",
    "    if seq_file.endswith('.screen'):\n",
    "        taxon_name = seq_file.split('.')[0].split('_ests')[0]\n",
    "        file_path = os.path.join(path_to_seqs, seq_file)\n",
    "    \n",
    "        for seq in SeqIO.parse(file_path, 'fasta'):\n",
    "            current_seqlist = masked_seqs_stats.find_x_regions_and_calculate_stats(seq, taxon_name)\n",
    "\n",
    "            if len(current_seqlist) > 0:\n",
    "                for seq_dict in current_seqlist:\n",
    "                    xgroups_data = xgroups_data.append(seq_dict, ignore_index=True)"
   ]
  },
  {
   "cell_type": "code",
   "execution_count": 24,
   "metadata": {},
   "outputs": [
    {
     "output_type": "execute_result",
     "data": {
      "text/plain": [
       "       seq_id           taxon seq_len xgroup_id xgroup_len dist_from_3  \\\n",
       "0  DB735471.1  Apis_mellifera     497         0        110         384   \n",
       "1  DB777386.1  Apis_mellifera     487         0        199           0   \n",
       "2  DB772776.1  Apis_mellifera     531         0        427           2   \n",
       "3  DB773215.1  Apis_mellifera     495         0        323           4   \n",
       "4  DB747490.1  Apis_mellifera     531         0        455          76   \n",
       "\n",
       "  dist_from_5 seq_class  \n",
       "0           3         3  \n",
       "1         288         5  \n",
       "2         102         6  \n",
       "3         168         6  \n",
       "4           0         4  "
      ],
      "text/html": "<div>\n<style scoped>\n    .dataframe tbody tr th:only-of-type {\n        vertical-align: middle;\n    }\n\n    .dataframe tbody tr th {\n        vertical-align: top;\n    }\n\n    .dataframe thead th {\n        text-align: right;\n    }\n</style>\n<table border=\"1\" class=\"dataframe\">\n  <thead>\n    <tr style=\"text-align: right;\">\n      <th></th>\n      <th>seq_id</th>\n      <th>taxon</th>\n      <th>seq_len</th>\n      <th>xgroup_id</th>\n      <th>xgroup_len</th>\n      <th>dist_from_3</th>\n      <th>dist_from_5</th>\n      <th>seq_class</th>\n    </tr>\n  </thead>\n  <tbody>\n    <tr>\n      <th>0</th>\n      <td>DB735471.1</td>\n      <td>Apis_mellifera</td>\n      <td>497</td>\n      <td>0</td>\n      <td>110</td>\n      <td>384</td>\n      <td>3</td>\n      <td>3</td>\n    </tr>\n    <tr>\n      <th>1</th>\n      <td>DB777386.1</td>\n      <td>Apis_mellifera</td>\n      <td>487</td>\n      <td>0</td>\n      <td>199</td>\n      <td>0</td>\n      <td>288</td>\n      <td>5</td>\n    </tr>\n    <tr>\n      <th>2</th>\n      <td>DB772776.1</td>\n      <td>Apis_mellifera</td>\n      <td>531</td>\n      <td>0</td>\n      <td>427</td>\n      <td>2</td>\n      <td>102</td>\n      <td>6</td>\n    </tr>\n    <tr>\n      <th>3</th>\n      <td>DB773215.1</td>\n      <td>Apis_mellifera</td>\n      <td>495</td>\n      <td>0</td>\n      <td>323</td>\n      <td>4</td>\n      <td>168</td>\n      <td>6</td>\n    </tr>\n    <tr>\n      <th>4</th>\n      <td>DB747490.1</td>\n      <td>Apis_mellifera</td>\n      <td>531</td>\n      <td>0</td>\n      <td>455</td>\n      <td>76</td>\n      <td>0</td>\n      <td>4</td>\n    </tr>\n  </tbody>\n</table>\n</div>"
     },
     "metadata": {},
     "execution_count": 24
    }
   ],
   "source": [
    "xgroups_data.head()"
   ]
  }
 ]
}