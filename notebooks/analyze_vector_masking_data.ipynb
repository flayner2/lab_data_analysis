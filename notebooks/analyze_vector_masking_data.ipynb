{
 "metadata": {
  "language_info": {
   "codemirror_mode": {
    "name": "ipython",
    "version": 3
   },
   "file_extension": ".py",
   "mimetype": "text/x-python",
   "name": "python",
   "nbconvert_exporter": "python",
   "pygments_lexer": "ipython3",
   "version": "3.9.1-final"
  },
  "orig_nbformat": 2,
  "kernelspec": {
   "name": "python3",
   "display_name": "Python 3",
   "language": "python"
  }
 },
 "nbformat": 4,
 "nbformat_minor": 2,
 "cells": [
  {
   "source": [
    "## 1. Import needed libraries"
   ],
   "cell_type": "markdown",
   "metadata": {}
  },
  {
   "cell_type": "code",
   "execution_count": 4,
   "metadata": {},
   "outputs": [],
   "source": [
    "# configuring local imports\n",
    "import sys\n",
    "sys.path.insert(1, '/home/maycon/Documents/LAB/lab_data_analysis/helpers')"
   ]
  },
  {
   "cell_type": "code",
   "execution_count": 5,
   "metadata": {},
   "outputs": [],
   "source": [
    "import os\n",
    "import pandas as pd\n",
    "import matplotlib.pyplot as plt\n",
    "import numpy as np\n",
    "import seaborn as sns\n",
    "import masked_seqs_stats\n",
    "from Bio import SeqIO\n",
    "%matplotlib inline"
   ]
  },
  {
   "source": [
    "## 2. Load the vector-masked EST sequences and calculate stats"
   ],
   "cell_type": "markdown",
   "metadata": {}
  },
  {
   "cell_type": "code",
   "execution_count": 8,
   "metadata": {},
   "outputs": [
    {
     "output_type": "stream",
     "name": "stdout",
     "text": [
      "TTTTTATAAGAATTGCAGTGTGATACGAAATACTAGAACATCATTTTATAATCCGTGTAATAAAAATTATAATCTAGTATGTGTACTGCATTAGATCAATGGTTTTATATATATATCTATATAGTTTATCGTGCTTATTTAACGAACGCTTTGTAAAAAAGTGTTTTTTTTTTTTGTATAAGCATTCACATTATTAAAAACATTATTATCAATTAATTTGAAAATTTTATTTCTATATTATATTATCGCAGGTATCGAGTATAATTACGCGAACACGATGCGGCATCTTTTTCAATATTATAAAATAATTATATATGTATAATAATTACCTATAATAGATTCAATAATAAATATTCATTTAAAATATCTCTTAAAAGAGTTTTTTCTTTACAGCGGTATATCTTTCCATATAGTTATCATAACCATCAAGATTAGCAAATTGTTTTATCTCAAATAAATTTCCTTCAACAGACAGGACTGAAATTTTAGAATTTTTCAAAATTTTACTAGGTATTGCATTCAGTTGTAAACAATTTTCTTCAAGTCTTAATGT\n"
     ]
    },
    {
     "output_type": "error",
     "ename": "TypeError",
     "evalue": "expected string or bytes-like object",
     "traceback": [
      "\u001b[0;31m---------------------------------------------------------------------------\u001b[0m",
      "\u001b[0;31mTypeError\u001b[0m                                 Traceback (most recent call last)",
      "\u001b[0;32m<ipython-input-8-340ad6bcd31a>\u001b[0m in \u001b[0;36m<module>\u001b[0;34m\u001b[0m\n\u001b[1;32m     10\u001b[0m         \u001b[0;32mfor\u001b[0m \u001b[0mseq\u001b[0m \u001b[0;32min\u001b[0m \u001b[0mSeqIO\u001b[0m\u001b[0;34m.\u001b[0m\u001b[0mparse\u001b[0m\u001b[0;34m(\u001b[0m\u001b[0mfile_path\u001b[0m\u001b[0;34m,\u001b[0m \u001b[0;34m'fasta'\u001b[0m\u001b[0;34m)\u001b[0m\u001b[0;34m:\u001b[0m\u001b[0;34m\u001b[0m\u001b[0;34m\u001b[0m\u001b[0m\n\u001b[1;32m     11\u001b[0m             \u001b[0mprint\u001b[0m\u001b[0;34m(\u001b[0m\u001b[0mstr\u001b[0m\u001b[0;34m(\u001b[0m\u001b[0mseq\u001b[0m\u001b[0;34m.\u001b[0m\u001b[0mseq\u001b[0m\u001b[0;34m)\u001b[0m\u001b[0;34m)\u001b[0m\u001b[0;34m\u001b[0m\u001b[0;34m\u001b[0m\u001b[0m\n\u001b[0;32m---> 12\u001b[0;31m             \u001b[0mcurrent_seqlist\u001b[0m \u001b[0;34m=\u001b[0m \u001b[0mmasked_seqs_stats\u001b[0m\u001b[0;34m.\u001b[0m\u001b[0mfind_x_regions_and_calculate_stats\u001b[0m\u001b[0;34m(\u001b[0m\u001b[0mseq\u001b[0m\u001b[0;34m,\u001b[0m \u001b[0mtaxon_name\u001b[0m\u001b[0;34m)\u001b[0m\u001b[0;34m\u001b[0m\u001b[0;34m\u001b[0m\u001b[0m\n\u001b[0m\u001b[1;32m     13\u001b[0m \u001b[0;34m\u001b[0m\u001b[0m\n\u001b[1;32m     14\u001b[0m             \u001b[0;32mif\u001b[0m \u001b[0mlen\u001b[0m\u001b[0;34m(\u001b[0m\u001b[0mcurrent_seqlist\u001b[0m\u001b[0;34m)\u001b[0m \u001b[0;34m>\u001b[0m \u001b[0;36m0\u001b[0m\u001b[0;34m:\u001b[0m\u001b[0;34m\u001b[0m\u001b[0;34m\u001b[0m\u001b[0m\n",
      "\u001b[0;32m~/Documents/LAB/lab_data_analysis/helpers/masked_seqs_stats.py\u001b[0m in \u001b[0;36mfind_x_regions_and_calculate_stats\u001b[0;34m(sequence, taxon)\u001b[0m\n\u001b[1;32m     10\u001b[0m \u001b[0;34m\u001b[0m\u001b[0m\n\u001b[1;32m     11\u001b[0m     \u001b[0mpattern\u001b[0m \u001b[0;34m=\u001b[0m \u001b[0mre\u001b[0m\u001b[0;34m.\u001b[0m\u001b[0mcompile\u001b[0m\u001b[0;34m(\u001b[0m\u001b[0;34mr\"X+\"\u001b[0m\u001b[0;34m)\u001b[0m\u001b[0;34m\u001b[0m\u001b[0;34m\u001b[0m\u001b[0m\n\u001b[0;32m---> 12\u001b[0;31m     \u001b[0msearch_res\u001b[0m \u001b[0;34m=\u001b[0m \u001b[0mpattern\u001b[0m\u001b[0;34m.\u001b[0m\u001b[0mfinditer\u001b[0m\u001b[0;34m(\u001b[0m\u001b[0msequence\u001b[0m\u001b[0;34m.\u001b[0m\u001b[0mseq\u001b[0m\u001b[0;34m)\u001b[0m\u001b[0;34m\u001b[0m\u001b[0;34m\u001b[0m\u001b[0m\n\u001b[0m\u001b[1;32m     13\u001b[0m \u001b[0;34m\u001b[0m\u001b[0m\n\u001b[1;32m     14\u001b[0m     seq_features = {\n",
      "\u001b[0;31mTypeError\u001b[0m: expected string or bytes-like object"
     ]
    }
   ],
   "source": [
    "path_to_seqs = '/home/maycon/Documents/LAB/eusociality/local_data/crossmatch_filtered'\n",
    "\n",
    "xgroups_data = pd.DataFrame(columns=[\"seq_id\", \"taxon\", \"seq_len\", \"xgroup_id\", \"xgroup_len\", \"dist_from_3\", \"dist_from_5\", \"seq_class\"])\n",
    "\n",
    "for seq_file in os.listdir(path_to_seqs):\n",
    "    if seq_file.endswith('.screen'):\n",
    "        taxon_name = seq_file.split('.')[0].split('_ests')[0]\n",
    "        file_path = os.path.join(path_to_seqs, seq_file)\n",
    "    \n",
    "        for seq in SeqIO.parse(file_path, 'fasta'):\n",
    "            current_seqlist = masked_seqs_stats.find_x_regions_and_calculate_stats(seq, taxon_name)\n",
    "\n",
    "            if len(current_seqlist) > 0:\n",
    "                for seq_dict in current_seqlist:\n",
    "                    xgroups_data = xgroups_data.append(seq_dict)"
   ]
  },
  {
   "cell_type": "code",
   "execution_count": null,
   "metadata": {},
   "outputs": [],
   "source": [
    "xgroups_data.head()"
   ]
  }
 ]
}